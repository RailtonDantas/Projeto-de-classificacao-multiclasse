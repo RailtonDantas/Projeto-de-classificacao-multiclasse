{
 "cells": [
  {
   "cell_type": "markdown",
   "id": "1ae9b3d3",
   "metadata": {},
   "source": [
    "### Projeto de classificação de multiclasses\n",
    "#### O intuito do projeto é construir um modelo de predição que seja capaz de classificar as pessoas em 3 tipos\n",
    "    - Diabéticas - 1\n",
    "    - Pré diabéticas - 2\n",
    "    - Não diabéticas - 0"
   ]
  },
  {
   "cell_type": "markdown",
   "id": "e40e4707",
   "metadata": {},
   "source": [
    "### Primeiro passo: EDA (Análise exploratória de dados)"
   ]
  },
  {
   "cell_type": "code",
   "execution_count": null,
   "id": "8f820ddc",
   "metadata": {},
   "outputs": [],
   "source": [
    "import pandas as pd\n",
    "import numpy as np\n",
    "pd.set_option('display.max_rows', None) \n",
    "df = pd.read_csv(\"Dataset of Diabetes .csv\")\n",
    "df2 = pd.read_csv('diabetes.csv')\n",
    "\n",
    "df.drop(columns=['ID','No_Pation'],inplace=True)\n",
    "df['CLASS'].replace(to_replace=['N','N ','Y','Y ','P'],value=[0,0,1,1,2],inplace=True)\n",
    "df['Gender'].replace(to_replace=['F','f','M'],value=[0,0,1],inplace=True)\n",
    "\n",
    "df['Class'] = df['CLASS']\n",
    "df.drop(axis=1,columns='CLASS',inplace=True)\n",
    "\n",
    "df_combined = pd.concat([df,df2],ignore_index=True)\n",
    "df_combined = df_combined.drop_duplicates()\n",
    "print(df_combined.info())"
   ]
  },
  {
   "cell_type": "markdown",
   "id": "adf41897",
   "metadata": {},
   "source": [
    "### Plotagem da distribuição de classes usando gráfico de torta\n",
    "### Plotagem dos dados usando uma boxplot\n",
    "\n",
    "Essa etapa visa visualizar a distribuição dos dados para uma análise mais profunda, também é útil para visualização de outliers\n",
    "\n",
    "- Como os dados são do contexto médico, nem sempre tirar os outliers é a melhor escolha, por isso, não vou tirar os outliers. Outro motivo para isso é que vou utilizar o algoritmo Random Forest, devido a natureza do modelo eçe consegue lidar bem com outliers"
   ]
  },
  {
   "cell_type": "code",
   "execution_count": null,
   "id": "72f0809a",
   "metadata": {},
   "outputs": [],
   "source": [
    "import pandas as pd\n",
    "import numpy as np\n",
    "import seaborn as sns\n",
    "import matplotlib.pyplot as plt\n",
    "\n",
    "fig,axes = plt.subplots(nrows=5,ncols=2,figsize=(8,20),width_ratios=[2,2],height_ratios=[4,4,4,4,4])\n",
    "\n",
    "axes_flat = axes.flatten()\n",
    "fig.set_facecolor(\"white\")\n",
    "columns = df_combined.columns[1:-1]\n",
    "axes_columns = zip(columns,axes_flat)\n",
    "sns.set_theme('notebook',font_scale=1.2,style='whitegrid')\n",
    "\n",
    "for column,axe in axes_columns:\n",
    "    sns.boxplot(data=df_combined,y=df_combined[column],ax=axe,linewidth=0.5,width=0.6)\n",
    "    axe.set_ylabel(\"Range\",fontdict={'fontsize':9,'fontfamily':'Arial','style':'italic'})\n",
    "    axe.set_xlabel(column)\n",
    "    axe.patch.set_edgecolor('red')\n",
    "    sns.stripplot(ax=axe,data=df_combined,y=df_combined[column],size=4,jitter=True,color='#0578e4')\n",
    "\n",
    "plt.show()\n",
    "\n",
    "\n"
   ]
  },
  {
   "cell_type": "markdown",
   "id": "0b37df5a",
   "metadata": {},
   "source": [
    "### Plotar a distribuição de classes\n"
   ]
  },
  {
   "cell_type": "code",
   "execution_count": null,
   "id": "340ee133",
   "metadata": {},
   "outputs": [],
   "source": [
    "valores = df_combined['Class'].value_counts()\n",
    "print(valores)\n",
    "cores = sns.color_palette(\"vlag\").as_hex()\n",
    "plt.figure(figsize=(6,6))\n",
    "plt.title(\"Distribuição das classes\",fontdict={\"fontsize\":13,'fontfamily':\"Arial\"})\n",
    "pie = plt.pie(x=valores,labels=['Não diabética','Pré diabética','Diabética'],colors=cores,explode=(0.05,0.05,0.05)\n",
    "              ,shadow=True,autopct=\"%1.1f%%\",textprops={'fontsize':12,'fontfamily':\"Arial\"})\n",
    "textos = pie[2]\n",
    "wedges = pie[0]\n",
    "\n",
    "wedges[0].set_edgecolor('#2c345f')\n",
    "wedges[1].set_edgecolor(\"#2c345f\")\n",
    "wedges[2].set_edgecolor(\"#2c345f\")\n",
    "\n",
    "texto_wedge1 = textos[0].get_text() + '\\n' + f'{valores[1]} pessoas'\n",
    "textos[0].set_text(texto_wedge1)\n",
    "texto_wedge2 = textos[1].get_text() + '\\n' + f'{valores[2]} pessoas'\n",
    "textos[1].set_text(texto_wedge2)\n",
    "texto_wedge3 = textos[2].get_text() + '\\n' + f'{valores[0]} pessoas'\n",
    "textos[2].set_text(texto_wedge3)\n",
    "\n",
    "info = f\"Total  de pessoas: {sum(valores)}\"\n",
    "plt.figtext(0.5,0.04,info,bbox={'boxstyle':'round','facecolor':'#e4e5eb'},ha='center',fontdict=\n",
    "            {'fontsize':12,\n",
    "             'fontweight':'light',\n",
    "             'fontfamily':'Arial'})\n",
    "\n",
    "plt.tight_layout()\n",
    "plt.show()\n",
    "\n"
   ]
  },
  {
   "cell_type": "markdown",
   "id": "5b3b4358",
   "metadata": {},
   "source": [
    "- Como esse dataset já foi tratado por um usuário do Kaggle, não sobraram dados nulo, vazios e nem nada do tipo, por isso a etapa de EDA foi mais focada na visualização dos dados"
   ]
  },
  {
   "cell_type": "markdown",
   "id": "64bfb28b",
   "metadata": {},
   "source": [
    "### 2 etapa: Estratificar os dados\n",
    "Como o modelo que vou utilizar é o Random Forest, não será necessário normalizar os dados\n"
   ]
  },
  {
   "cell_type": "code",
   "execution_count": null,
   "id": "ad64b477",
   "metadata": {},
   "outputs": [],
   "source": [
    "from sklearn.model_selection import train_test_split\n",
    "x = df_combined.drop(axis=1,columns=['Class'])\n",
    "y = df_combined['Class']\n",
    "\n",
    "x_train,x_test,y_train,y_test = train_test_split(x,y,random_state=42,test_size=0.2,train_size=0.8,stratify=y)\n",
    "\n",
    "print(y_train.value_counts())"
   ]
  },
  {
   "cell_type": "markdown",
   "id": "17e579e6",
   "metadata": {},
   "source": [
    "### Utilização do SMOTE para criação de pacientes virtuais para equilibrar as classes nos dados de teste"
   ]
  },
  {
   "cell_type": "code",
   "execution_count": null,
   "id": "f8dd2f86",
   "metadata": {},
   "outputs": [],
   "source": [
    "from imblearn.over_sampling import BorderlineSMOTE\n",
    "exemplos_divisao = {\n",
    "    1:600,0:150,2:200\n",
    "}\n",
    "smote = BorderlineSMOTE(sampling_strategy=exemplos_divisao,k_neighbors=5,random_state=42)\n",
    "x_smote,y_smote = smote.fit_resample(x_train,y_train)\n"
   ]
  },
  {
   "cell_type": "markdown",
   "id": "7abbd80a",
   "metadata": {},
   "source": [
    "### 3 etapa: Treinar o modelo"
   ]
  },
  {
   "cell_type": "code",
   "execution_count": null,
   "id": "bd3c62b5",
   "metadata": {},
   "outputs": [],
   "source": [
    "from imblearn.ensemble import BalancedRandomForestClassifier\n",
    "from sklearn.model_selection import GridSearchCV\n",
    "from sklearn.metrics import accuracy_score,classification_report\n",
    "\n",
    "model = BalancedRandomForestClassifier(n_estimators=50,max_depth=5,max_features='sqrt',min_samples_leaf=5,min_samples_split=5,random_state=42)\n",
    "model.fit(x_smote,y_smote)\n",
    "\n",
    "ans = model.predict(x_test)\n",
    "\n",
    "acuracy = accuracy_score(y_pred=ans,y_true=y_test)\n",
    "\n",
    "\n",
    "print(f'{acuracy*100:.2f}%')\n",
    "print(classification_report(y_true=y_test,y_pred=ans))\n"
   ]
  }
 ],
 "metadata": {
  "kernelspec": {
   "display_name": "Python 3",
   "language": "python",
   "name": "python3"
  },
  "language_info": {
   "codemirror_mode": {
    "name": "ipython",
    "version": 3
   },
   "file_extension": ".py",
   "mimetype": "text/x-python",
   "name": "python",
   "nbconvert_exporter": "python",
   "pygments_lexer": "ipython3",
   "version": "3.12.3"
  }
 },
 "nbformat": 4,
 "nbformat_minor": 5
}
